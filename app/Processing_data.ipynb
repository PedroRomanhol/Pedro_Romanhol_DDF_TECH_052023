{
 "cells": [
  {
   "cell_type": "code",
   "execution_count": 1,
   "id": "3a9d13b4-42f1-4347-b8a7-eea287bad313",
   "metadata": {
    "execution": {
     "iopub.execute_input": "2024-06-03T17:39:34.738827Z",
     "iopub.status.busy": "2024-06-03T17:39:34.738367Z",
     "iopub.status.idle": "2024-06-03T17:39:35.395917Z",
     "shell.execute_reply": "2024-06-03T17:39:35.395041Z"
    }
   },
   "outputs": [],
   "source": [
    "import numpy as np\n",
    "import pickle\n",
    "import pandas as pd"
   ]
  },
  {
   "cell_type": "code",
   "execution_count": 2,
   "id": "0d9042cd-d06f-4d4a-a522-8b6c9e17b4a8",
   "metadata": {
    "execution": {
     "iopub.execute_input": "2024-06-03T17:39:35.412678Z",
     "iopub.status.busy": "2024-06-03T17:39:35.411051Z",
     "iopub.status.idle": "2024-06-03T17:39:35.445265Z",
     "shell.execute_reply": "2024-06-03T17:39:35.444445Z"
    }
   },
   "outputs": [],
   "source": [
    "# Carregar variáveis do arquivo pickle\n",
    "with open('datas.pkl', 'rb') as f:\n",
    "    data = pickle.load(f)\n",
    "\n",
    "df = data['df']\n",
    "rank = data['rank']"
   ]
  },
  {
   "cell_type": "code",
   "execution_count": 3,
   "id": "20cec54d-e34c-4f79-9b7c-9ef977a29986",
   "metadata": {
    "execution": {
     "iopub.execute_input": "2024-06-03T17:39:35.476021Z",
     "iopub.status.busy": "2024-06-03T17:39:35.463897Z",
     "iopub.status.idle": "2024-06-03T17:39:35.500934Z",
     "shell.execute_reply": "2024-06-03T17:39:35.500150Z"
    }
   },
   "outputs": [
    {
     "data": {
      "text/plain": [
       "<bound method NDFrame.head of              date home_team away_team  home_score  away_score tournament  \\\n",
       "0      1872-11-30  Scotland   England         0.0         0.0   Friendly   \n",
       "1      1873-03-08   England  Scotland         4.0         2.0   Friendly   \n",
       "2      1874-03-07  Scotland   England         2.0         1.0   Friendly   \n",
       "3      1875-03-06   England  Scotland         2.0         2.0   Friendly   \n",
       "4      1876-03-04  Scotland   England         3.0         0.0   Friendly   \n",
       "...           ...       ...       ...         ...         ...        ...   \n",
       "47121  2024-07-06       NaN       NaN         NaN         NaN  UEFA Euro   \n",
       "47122  2024-07-06       NaN       NaN         NaN         NaN  UEFA Euro   \n",
       "47123  2024-07-09       NaN       NaN         NaN         NaN  UEFA Euro   \n",
       "47124  2024-07-10       NaN       NaN         NaN         NaN  UEFA Euro   \n",
       "47125  2024-07-14       NaN       NaN         NaN         NaN  UEFA Euro   \n",
       "\n",
       "             city   country  neutral  \n",
       "0         Glasgow  Scotland    False  \n",
       "1          London   England    False  \n",
       "2         Glasgow  Scotland    False  \n",
       "3          London   England    False  \n",
       "4         Glasgow  Scotland    False  \n",
       "...           ...       ...      ...  \n",
       "47121  Düsseldorf   Germany     True  \n",
       "47122      Berlin   Germany     True  \n",
       "47123      Munich   Germany     True  \n",
       "47124    Dortmund   Germany     True  \n",
       "47125      Berlin   Germany     True  \n",
       "\n",
       "[47126 rows x 9 columns]>"
      ]
     },
     "execution_count": 3,
     "metadata": {},
     "output_type": "execute_result"
    }
   ],
   "source": [
    "df.head"
   ]
  },
  {
   "cell_type": "code",
   "execution_count": 4,
   "id": "38f7e0a5-f39e-4dd0-83b7-34befe84bb5a",
   "metadata": {
    "execution": {
     "iopub.execute_input": "2024-06-03T17:39:35.537970Z",
     "iopub.status.busy": "2024-06-03T17:39:35.537080Z",
     "iopub.status.idle": "2024-06-03T17:39:35.559254Z",
     "shell.execute_reply": "2024-06-03T17:39:35.558609Z"
    }
   },
   "outputs": [],
   "source": [
    "df[\"date\"] = pd.to_datetime(df[\"date\"])"
   ]
  },
  {
   "cell_type": "code",
   "execution_count": 5,
   "id": "f5542e7d-7367-4d99-bb26-189772a1ccfe",
   "metadata": {
    "execution": {
     "iopub.execute_input": "2024-06-03T17:39:35.576308Z",
     "iopub.status.busy": "2024-06-03T17:39:35.575764Z",
     "iopub.status.idle": "2024-06-03T17:39:35.596564Z",
     "shell.execute_reply": "2024-06-03T17:39:35.595862Z"
    }
   },
   "outputs": [
    {
     "data": {
      "text/plain": [
       "date           0\n",
       "home_team     15\n",
       "away_team     15\n",
       "home_score    51\n",
       "away_score    51\n",
       "tournament     0\n",
       "city           0\n",
       "country        0\n",
       "neutral        0\n",
       "dtype: int64"
      ]
     },
     "execution_count": 5,
     "metadata": {},
     "output_type": "execute_result"
    }
   ],
   "source": [
    "df.isna().sum()"
   ]
  },
  {
   "cell_type": "code",
   "execution_count": 6,
   "id": "3e4b685b-7387-4263-bb40-18e52ec5d936",
   "metadata": {
    "execution": {
     "iopub.execute_input": "2024-06-03T17:39:35.614115Z",
     "iopub.status.busy": "2024-06-03T17:39:35.613544Z",
     "iopub.status.idle": "2024-06-03T17:39:35.636197Z",
     "shell.execute_reply": "2024-06-03T17:39:35.635434Z"
    }
   },
   "outputs": [],
   "source": [
    "df.dropna(inplace=True)"
   ]
  },
  {
   "cell_type": "code",
   "execution_count": 7,
   "id": "e962235b-0204-4375-b2d0-5b34106add5f",
   "metadata": {
    "execution": {
     "iopub.execute_input": "2024-06-03T17:39:35.654412Z",
     "iopub.status.busy": "2024-06-03T17:39:35.653305Z",
     "iopub.status.idle": "2024-06-03T17:39:35.674202Z",
     "shell.execute_reply": "2024-06-03T17:39:35.673514Z"
    }
   },
   "outputs": [
    {
     "data": {
      "text/plain": [
       "date          datetime64[ns]\n",
       "home_team             object\n",
       "away_team             object\n",
       "home_score           float64\n",
       "away_score           float64\n",
       "tournament            object\n",
       "city                  object\n",
       "country               object\n",
       "neutral                 bool\n",
       "dtype: object"
      ]
     },
     "execution_count": 7,
     "metadata": {},
     "output_type": "execute_result"
    }
   ],
   "source": [
    "df.dtypes"
   ]
  },
  {
   "cell_type": "code",
   "execution_count": 8,
   "id": "dc00accd-de67-4929-ac68-3e3b5bb0a30a",
   "metadata": {
    "execution": {
     "iopub.execute_input": "2024-06-03T17:39:35.695351Z",
     "iopub.status.busy": "2024-06-03T17:39:35.695023Z",
     "iopub.status.idle": "2024-06-03T17:39:35.723905Z",
     "shell.execute_reply": "2024-06-03T17:39:35.723219Z"
    }
   },
   "outputs": [
    {
     "data": {
      "text/html": [
       "<div>\n",
       "<style scoped>\n",
       "    .dataframe tbody tr th:only-of-type {\n",
       "        vertical-align: middle;\n",
       "    }\n",
       "\n",
       "    .dataframe tbody tr th {\n",
       "        vertical-align: top;\n",
       "    }\n",
       "\n",
       "    .dataframe thead th {\n",
       "        text-align: right;\n",
       "    }\n",
       "</style>\n",
       "<table border=\"1\" class=\"dataframe\">\n",
       "  <thead>\n",
       "    <tr style=\"text-align: right;\">\n",
       "      <th></th>\n",
       "      <th>date</th>\n",
       "      <th>home_team</th>\n",
       "      <th>away_team</th>\n",
       "      <th>home_score</th>\n",
       "      <th>away_score</th>\n",
       "      <th>tournament</th>\n",
       "      <th>city</th>\n",
       "      <th>country</th>\n",
       "      <th>neutral</th>\n",
       "    </tr>\n",
       "  </thead>\n",
       "  <tbody>\n",
       "    <tr>\n",
       "      <th>47044</th>\n",
       "      <td>2024-03-26</td>\n",
       "      <td>Tajikistan</td>\n",
       "      <td>Saudi Arabia</td>\n",
       "      <td>1.0</td>\n",
       "      <td>1.0</td>\n",
       "      <td>FIFA World Cup qualification</td>\n",
       "      <td>Dushanbe</td>\n",
       "      <td>Tajikistan</td>\n",
       "      <td>False</td>\n",
       "    </tr>\n",
       "    <tr>\n",
       "      <th>47045</th>\n",
       "      <td>2024-03-26</td>\n",
       "      <td>Jordan</td>\n",
       "      <td>Pakistan</td>\n",
       "      <td>7.0</td>\n",
       "      <td>0.0</td>\n",
       "      <td>FIFA World Cup qualification</td>\n",
       "      <td>Amman</td>\n",
       "      <td>Jordan</td>\n",
       "      <td>False</td>\n",
       "    </tr>\n",
       "    <tr>\n",
       "      <th>47046</th>\n",
       "      <td>2024-03-26</td>\n",
       "      <td>Bahrain</td>\n",
       "      <td>Nepal</td>\n",
       "      <td>3.0</td>\n",
       "      <td>0.0</td>\n",
       "      <td>FIFA World Cup qualification</td>\n",
       "      <td>Riffa</td>\n",
       "      <td>Bahrain</td>\n",
       "      <td>False</td>\n",
       "    </tr>\n",
       "    <tr>\n",
       "      <th>47048</th>\n",
       "      <td>2024-03-26</td>\n",
       "      <td>Bangladesh</td>\n",
       "      <td>Palestine</td>\n",
       "      <td>0.0</td>\n",
       "      <td>1.0</td>\n",
       "      <td>FIFA World Cup qualification</td>\n",
       "      <td>Dhaka</td>\n",
       "      <td>Bangladesh</td>\n",
       "      <td>False</td>\n",
       "    </tr>\n",
       "    <tr>\n",
       "      <th>47074</th>\n",
       "      <td>2024-03-26</td>\n",
       "      <td>Finland</td>\n",
       "      <td>Estonia</td>\n",
       "      <td>2.0</td>\n",
       "      <td>1.0</td>\n",
       "      <td>Friendly</td>\n",
       "      <td>Helsinki</td>\n",
       "      <td>Finland</td>\n",
       "      <td>False</td>\n",
       "    </tr>\n",
       "  </tbody>\n",
       "</table>\n",
       "</div>"
      ],
      "text/plain": [
       "            date   home_team     away_team  home_score  away_score  \\\n",
       "47044 2024-03-26  Tajikistan  Saudi Arabia         1.0         1.0   \n",
       "47045 2024-03-26      Jordan      Pakistan         7.0         0.0   \n",
       "47046 2024-03-26     Bahrain         Nepal         3.0         0.0   \n",
       "47048 2024-03-26  Bangladesh     Palestine         0.0         1.0   \n",
       "47074 2024-03-26     Finland       Estonia         2.0         1.0   \n",
       "\n",
       "                         tournament      city     country  neutral  \n",
       "47044  FIFA World Cup qualification  Dushanbe  Tajikistan    False  \n",
       "47045  FIFA World Cup qualification     Amman      Jordan    False  \n",
       "47046  FIFA World Cup qualification     Riffa     Bahrain    False  \n",
       "47048  FIFA World Cup qualification     Dhaka  Bangladesh    False  \n",
       "47074                      Friendly  Helsinki     Finland    False  "
      ]
     },
     "execution_count": 8,
     "metadata": {},
     "output_type": "execute_result"
    }
   ],
   "source": [
    "df.sort_values(\"date\").tail()"
   ]
  },
  {
   "cell_type": "code",
   "execution_count": 9,
   "id": "c1bb74fa-f60b-4ea3-976a-c7a01eaf1b4a",
   "metadata": {
    "execution": {
     "iopub.execute_input": "2024-06-03T17:39:35.746921Z",
     "iopub.status.busy": "2024-06-03T17:39:35.746494Z",
     "iopub.status.idle": "2024-06-03T17:39:35.750705Z",
     "shell.execute_reply": "2024-06-03T17:39:35.750194Z"
    }
   },
   "outputs": [],
   "source": [
    "df = df[(df[\"date\"] >= \"2021-7-11\")].reset_index(drop=True)"
   ]
  },
  {
   "cell_type": "code",
   "execution_count": 10,
   "id": "f666e3d2-7635-4da6-82ea-45f3a0f6cc40",
   "metadata": {
    "execution": {
     "iopub.execute_input": "2024-06-03T17:39:35.775469Z",
     "iopub.status.busy": "2024-06-03T17:39:35.773865Z",
     "iopub.status.idle": "2024-06-03T17:39:35.788696Z",
     "shell.execute_reply": "2024-06-03T17:39:35.787949Z"
    }
   },
   "outputs": [
    {
     "data": {
      "text/plain": [
       "home_team\n",
       "United States       37\n",
       "Mexico              36\n",
       "Bahrain             34\n",
       "Qatar               34\n",
       "Morocco             31\n",
       "                    ..\n",
       "Elba Island          1\n",
       "West Papua           1\n",
       "Saint Barthélemy     1\n",
       "Ticino               1\n",
       "American Samoa       1\n",
       "Name: count, Length: 249, dtype: int64"
      ]
     },
     "execution_count": 10,
     "metadata": {},
     "output_type": "execute_result"
    }
   ],
   "source": [
    "df.home_team.value_counts()"
   ]
  },
  {
   "cell_type": "code",
   "execution_count": 11,
   "id": "6d039071-2d10-4ab5-9e6d-9b9fb0f931f0",
   "metadata": {
    "execution": {
     "iopub.execute_input": "2024-06-03T17:39:35.808639Z",
     "iopub.status.busy": "2024-06-03T17:39:35.808296Z",
     "iopub.status.idle": "2024-06-03T17:39:35.833691Z",
     "shell.execute_reply": "2024-06-03T17:39:35.832837Z"
    }
   },
   "outputs": [],
   "source": [
    "rank[\"rank_date\"] = pd.to_datetime(rank[\"rank_date\"])\n",
    "rank = rank[(rank[\"rank_date\"] >= \"2021-7-11\")].reset_index(drop=True)"
   ]
  },
  {
   "cell_type": "code",
   "execution_count": 12,
   "id": "e78eedf0-7131-4b2b-acfa-e64b6af9851d",
   "metadata": {
    "execution": {
     "iopub.execute_input": "2024-06-03T17:39:35.856723Z",
     "iopub.status.busy": "2024-06-03T17:39:35.856418Z",
     "iopub.status.idle": "2024-06-03T17:39:35.868847Z",
     "shell.execute_reply": "2024-06-03T17:39:35.868166Z"
    }
   },
   "outputs": [],
   "source": [
    "rank[\"country_full\"] = rank[\"country_full\"].str.replace(\"IR Iran\", \"Iran\").str.replace(\"Korea Republic\", \"South Korea\").str.replace(\"USA\", \"United States\")"
   ]
  },
  {
   "cell_type": "code",
   "execution_count": 13,
   "id": "92434d9d-0cd5-4bb3-a8cf-8d3039eb31ae",
   "metadata": {
    "execution": {
     "iopub.execute_input": "2024-06-03T17:39:35.888029Z",
     "iopub.status.busy": "2024-06-03T17:39:35.887679Z",
     "iopub.status.idle": "2024-06-03T17:39:36.394052Z",
     "shell.execute_reply": "2024-06-03T17:39:36.390230Z"
    }
   },
   "outputs": [],
   "source": [
    "rank = rank.set_index(['rank_date']).groupby(['country_full'], group_keys=False).resample('D').first().fillna(method='ffill').reset_index()"
   ]
  },
  {
   "cell_type": "code",
   "execution_count": 14,
   "id": "451f2446-22b0-41b9-ada8-ce803ad8f223",
   "metadata": {
    "execution": {
     "iopub.execute_input": "2024-06-03T17:39:36.414781Z",
     "iopub.status.busy": "2024-06-03T17:39:36.414423Z",
     "iopub.status.idle": "2024-06-03T17:39:36.492547Z",
     "shell.execute_reply": "2024-06-03T17:39:36.491880Z"
    }
   },
   "outputs": [],
   "source": [
    "df_wc_ranked = df.merge(rank[[\"country_full\", \"total_points\", \"previous_points\", \"rank\", \"rank_change\", \"rank_date\"]], \n",
    "                        left_on=[\"date\", \"home_team\"], right_on=[\"rank_date\", \"country_full\"]).drop([\"rank_date\", \"country_full\"], axis=1)\n",
    "\n",
    "df_wc_ranked = df_wc_ranked.merge(rank[[\"country_full\", \"total_points\", \"previous_points\", \"rank\", \"rank_change\", \"rank_date\"]], \n",
    "                                  left_on=[\"date\", \"away_team\"], right_on=[\"rank_date\", \"country_full\"], suffixes=(\"_home\", \"_away\")).drop([\"rank_date\", \"country_full\"],\n",
    "                                                                                                                                           axis=1)"
   ]
  },
  {
   "cell_type": "code",
   "execution_count": 15,
   "id": "f61072bc-42de-4dc9-93a3-606a465b4840",
   "metadata": {
    "execution": {
     "iopub.execute_input": "2024-06-03T17:39:36.511277Z",
     "iopub.status.busy": "2024-06-03T17:39:36.510734Z",
     "iopub.status.idle": "2024-06-03T17:39:36.514254Z",
     "shell.execute_reply": "2024-06-03T17:39:36.513684Z"
    }
   },
   "outputs": [],
   "source": [
    "df = df_wc_ranked"
   ]
  },
  {
   "cell_type": "code",
   "execution_count": 16,
   "id": "5607edc8-438b-4742-89d8-a12583c5c6e0",
   "metadata": {
    "execution": {
     "iopub.execute_input": "2024-06-03T17:39:36.533114Z",
     "iopub.status.busy": "2024-06-03T17:39:36.532625Z",
     "iopub.status.idle": "2024-06-03T17:39:37.040734Z",
     "shell.execute_reply": "2024-06-03T17:39:37.038846Z"
    }
   },
   "outputs": [],
   "source": [
    "def result_finder(home, away):\n",
    "    if home > away:\n",
    "        return pd.Series([0, 3, 0])\n",
    "    if home < away:\n",
    "        return pd.Series([1, 0, 3])\n",
    "    else:\n",
    "        return pd.Series([2, 1, 1])\n",
    "\n",
    "results = df.apply(lambda x: result_finder(x[\"home_score\"], x[\"away_score\"]), axis=1)"
   ]
  },
  {
   "cell_type": "code",
   "execution_count": 17,
   "id": "5a725a69-703a-4207-b7c3-c9ded5b50231",
   "metadata": {
    "execution": {
     "iopub.execute_input": "2024-06-03T17:39:37.077814Z",
     "iopub.status.busy": "2024-06-03T17:39:37.077461Z",
     "iopub.status.idle": "2024-06-03T17:39:37.092931Z",
     "shell.execute_reply": "2024-06-03T17:39:37.091551Z"
    }
   },
   "outputs": [],
   "source": [
    "df[[\"result\", \"home_team_points\", \"away_team_points\"]] = results"
   ]
  },
  {
   "cell_type": "code",
   "execution_count": 18,
   "id": "80a1bb65-6f7a-4999-9d8b-983cf7d3c8f6",
   "metadata": {
    "execution": {
     "iopub.execute_input": "2024-06-03T17:39:37.113607Z",
     "iopub.status.busy": "2024-06-03T17:39:37.113078Z",
     "iopub.status.idle": "2024-06-03T17:39:37.159873Z",
     "shell.execute_reply": "2024-06-03T17:39:37.159047Z"
    }
   },
   "outputs": [],
   "source": [
    "with open('datas.pkl', 'wb') as f:\n",
    "    pickle.dump({'df': df, 'rank': rank}, f)"
   ]
  }
 ],
 "metadata": {
  "kernelspec": {
   "display_name": "Python 3",
   "language": "python",
   "name": "orchest-kernel-c79509f7-e73c-4cf7-b67e-65668a2f6517"
  },
  "language_info": {
   "codemirror_mode": {
    "name": "ipython",
    "version": 3
   },
   "file_extension": ".py",
   "mimetype": "text/x-python",
   "name": "python",
   "nbconvert_exporter": "python",
   "pygments_lexer": "ipython3",
   "version": "3.8.19"
  }
 },
 "nbformat": 4,
 "nbformat_minor": 5
}
