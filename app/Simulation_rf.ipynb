{
 "cells": [
  {
   "cell_type": "code",
   "execution_count": 1,
   "id": "4aa85387-829f-4855-b1e1-39baf0cbed5c",
   "metadata": {
    "execution": {
     "iopub.execute_input": "2024-06-03T17:41:42.362521Z",
     "iopub.status.busy": "2024-06-03T17:41:42.362071Z",
     "iopub.status.idle": "2024-06-03T17:41:50.435777Z",
     "shell.execute_reply": "2024-06-03T17:41:50.434986Z"
    }
   },
   "outputs": [
    {
     "name": "stdout",
     "output_type": "stream",
     "text": [
      "\u001b[33mWARNING: The directory '/home/jovyan/.cache/pip' or its parent directory is not owned or is not writable by the current user. The cache has been disabled. Check the permissions and owner of that directory. If executing pip with sudo, you should use sudo's -H flag.\u001b[0m\u001b[33m\r\n",
      "\u001b[0m"
     ]
    },
    {
     "name": "stdout",
     "output_type": "stream",
     "text": [
      "Collecting scikit-learn\r\n",
      "  Downloading scikit_learn-1.3.2-cp38-cp38-manylinux_2_17_x86_64.manylinux2014_x86_64.whl.metadata (11 kB)\r\n"
     ]
    },
    {
     "name": "stdout",
     "output_type": "stream",
     "text": [
      "Requirement already satisfied: numpy<2.0,>=1.17.3 in /opt/conda/envs/py38/lib/python3.8/site-packages (from scikit-learn) (1.24.4)\r\n"
     ]
    },
    {
     "name": "stdout",
     "output_type": "stream",
     "text": [
      "Collecting scipy>=1.5.0 (from scikit-learn)\r\n",
      "  Downloading scipy-1.10.1-cp38-cp38-manylinux_2_17_x86_64.manylinux2014_x86_64.whl.metadata (58 kB)\r\n",
      "\u001b[?25l     \u001b[90m━━━━━━━━━━━━━━━━━━━━━━━━━━━━━━━━━━━━━━━━\u001b[0m \u001b[32m0.0/58.9 kB\u001b[0m \u001b[31m?\u001b[0m eta \u001b[36m-:--:--\u001b[0m\r",
      "\u001b[2K     \u001b[90m━━━━━━━━━━━━━━━━━━━━━━━━━━━━━━━━━━━━━━━━\u001b[0m \u001b[32m58.9/58.9 kB\u001b[0m \u001b[31m36.2 MB/s\u001b[0m eta \u001b[36m0:00:00\u001b[0m\r\n",
      "\u001b[?25h"
     ]
    },
    {
     "name": "stdout",
     "output_type": "stream",
     "text": [
      "Collecting joblib>=1.1.1 (from scikit-learn)\r\n"
     ]
    },
    {
     "name": "stdout",
     "output_type": "stream",
     "text": [
      "  Downloading joblib-1.4.2-py3-none-any.whl.metadata (5.4 kB)\r\n",
      "Collecting threadpoolctl>=2.0.0 (from scikit-learn)\r\n",
      "  Downloading threadpoolctl-3.5.0-py3-none-any.whl.metadata (13 kB)\r\n"
     ]
    },
    {
     "name": "stdout",
     "output_type": "stream",
     "text": [
      "Downloading scikit_learn-1.3.2-cp38-cp38-manylinux_2_17_x86_64.manylinux2014_x86_64.whl (11.1 MB)\r\n",
      "\u001b[?25l   \u001b[90m━━━━━━━━━━━━━━━━━━━━━━━━━━━━━━━━━━━━━━━━\u001b[0m \u001b[32m0.0/11.1 MB\u001b[0m \u001b[31m?\u001b[0m eta \u001b[36m-:--:--\u001b[0m"
     ]
    },
    {
     "name": "stdout",
     "output_type": "stream",
     "text": [
      "\r",
      "\u001b[2K   \u001b[91m━━━━━━━━━━━━━━━━━━━━━\u001b[0m\u001b[91m╸\u001b[0m\u001b[90m━━━━━━━━━━━━━━━━━━\u001b[0m \u001b[32m6.1/11.1 MB\u001b[0m \u001b[31m182.0 MB/s\u001b[0m eta \u001b[36m0:00:01\u001b[0m\r",
      "\u001b[2K   \u001b[90m━━━━━━━━━━━━━━━━━━━━━━━━━━━━━━━━━━━━━━━━\u001b[0m \u001b[32m11.1/11.1 MB\u001b[0m \u001b[31m164.9 MB/s\u001b[0m eta \u001b[36m0:00:00\u001b[0m\r\n",
      "\u001b[?25h"
     ]
    },
    {
     "name": "stdout",
     "output_type": "stream",
     "text": [
      "Downloading joblib-1.4.2-py3-none-any.whl (301 kB)\r\n",
      "\u001b[?25l   \u001b[90m━━━━━━━━━━━━━━━━━━━━━━━━━━━━━━━━━━━━━━━━\u001b[0m \u001b[32m0.0/301.8 kB\u001b[0m \u001b[31m?\u001b[0m eta \u001b[36m-:--:--\u001b[0m\r",
      "\u001b[2K   \u001b[90m━━━━━━━━━━━━━━━━━━━━━━━━━━━━━━━━━━━━━━━━\u001b[0m \u001b[32m301.8/301.8 kB\u001b[0m \u001b[31m23.9 MB/s\u001b[0m eta \u001b[36m0:00:00\u001b[0m\r\n",
      "\u001b[?25hDownloading scipy-1.10.1-cp38-cp38-manylinux_2_17_x86_64.manylinux2014_x86_64.whl (34.5 MB)\r\n",
      "\u001b[?25l"
     ]
    },
    {
     "name": "stdout",
     "output_type": "stream",
     "text": [
      "   \u001b[90m━━━━━━━━━━━━━━━━━━━━━━━━━━━━━━━━━━━━━━━━\u001b[0m \u001b[32m0.0/34.5 MB\u001b[0m \u001b[31m?\u001b[0m eta \u001b[36m-:--:--\u001b[0m\r",
      "\u001b[2K   \u001b[91m━━━━━\u001b[0m\u001b[91m╸\u001b[0m\u001b[90m━━━━━━━━━━━━━━━━━━━━━━━━━━━━━━━━━━\u001b[0m \u001b[32m4.8/34.5 MB\u001b[0m \u001b[31m147.6 MB/s\u001b[0m eta \u001b[36m0:00:01\u001b[0m"
     ]
    },
    {
     "name": "stdout",
     "output_type": "stream",
     "text": [
      "\r",
      "\u001b[2K   \u001b[91m━━━━━━━━━━\u001b[0m\u001b[90m╺\u001b[0m\u001b[90m━━━━━━━━━━━━━━━━━━━━━━━━━━━━━\u001b[0m \u001b[32m8.8/34.5 MB\u001b[0m \u001b[31m127.1 MB/s\u001b[0m eta \u001b[36m0:00:01\u001b[0m\r",
      "\u001b[2K   \u001b[91m━━━━━━━━━━━━━━━━\u001b[0m\u001b[91m╸\u001b[0m\u001b[90m━━━━━━━━━━━━━━━━━━━━━━━\u001b[0m \u001b[32m14.4/34.5 MB\u001b[0m \u001b[31m135.0 MB/s\u001b[0m eta \u001b[36m0:00:01\u001b[0m"
     ]
    },
    {
     "name": "stdout",
     "output_type": "stream",
     "text": [
      "\r",
      "\u001b[2K   \u001b[91m━━━━━━━━━━━━━━━━━━━━━━━\u001b[0m\u001b[90m╺\u001b[0m\u001b[90m━━━━━━━━━━━━━━━━\u001b[0m \u001b[32m20.0/34.5 MB\u001b[0m \u001b[31m162.8 MB/s\u001b[0m eta \u001b[36m0:00:01\u001b[0m"
     ]
    },
    {
     "name": "stdout",
     "output_type": "stream",
     "text": [
      "\r",
      "\u001b[2K   \u001b[91m━━━━━━━━━━━━━━━━━━━━━━━━━━━━━\u001b[0m\u001b[91m╸\u001b[0m\u001b[90m━━━━━━━━━━\u001b[0m \u001b[32m25.7/34.5 MB\u001b[0m \u001b[31m155.8 MB/s\u001b[0m eta \u001b[36m0:00:01\u001b[0m\r",
      "\u001b[2K   \u001b[91m━━━━━━━━━━━━━━━━━━━━━━━━━━━━━━━━━━━\u001b[0m\u001b[90m╺\u001b[0m\u001b[90m━━━━\u001b[0m \u001b[32m30.4/34.5 MB\u001b[0m \u001b[31m151.8 MB/s\u001b[0m eta \u001b[36m0:00:01\u001b[0m"
     ]
    },
    {
     "name": "stdout",
     "output_type": "stream",
     "text": [
      "\r",
      "\u001b[2K   \u001b[90m━━━━━━━━━━━━━━━━━━━━━━━━━━━━━━━━━━━━━━━━\u001b[0m \u001b[32m34.5/34.5 MB\u001b[0m \u001b[31m149.2 MB/s\u001b[0m eta \u001b[36m0:00:00\u001b[0m\r\n",
      "\u001b[?25hDownloading threadpoolctl-3.5.0-py3-none-any.whl (18 kB)\r\n"
     ]
    },
    {
     "name": "stdout",
     "output_type": "stream",
     "text": [
      "Installing collected packages: threadpoolctl, scipy, joblib, scikit-learn\r\n"
     ]
    },
    {
     "name": "stdout",
     "output_type": "stream",
     "text": [
      "Successfully installed joblib-1.4.2 scikit-learn-1.3.2 scipy-1.10.1 threadpoolctl-3.5.0\r\n",
      "\u001b[33mWARNING: Running pip as the 'root' user can result in broken permissions and conflicting behaviour with the system package manager. It is recommended to use a virtual environment instead: https://pip.pypa.io/warnings/venv\u001b[0m\u001b[33m\r\n",
      "\u001b[0m"
     ]
    }
   ],
   "source": [
    "!pip install scikit-learn"
   ]
  },
  {
   "cell_type": "code",
   "execution_count": 2,
   "id": "fb502520-7b42-4b3c-abc2-719f70daa842",
   "metadata": {
    "execution": {
     "iopub.execute_input": "2024-06-03T17:41:50.475992Z",
     "iopub.status.busy": "2024-06-03T17:41:50.474474Z",
     "iopub.status.idle": "2024-06-03T17:41:50.603952Z",
     "shell.execute_reply": "2024-06-03T17:41:50.603048Z"
    }
   },
   "outputs": [],
   "source": [
    "from operator import itemgetter\n",
    "import pickle\n",
    "import numpy as np"
   ]
  },
  {
   "cell_type": "code",
   "execution_count": 3,
   "id": "a310b807-3c60-4bcb-956b-d1d83097b924",
   "metadata": {
    "execution": {
     "iopub.execute_input": "2024-06-03T17:41:50.626517Z",
     "iopub.status.busy": "2024-06-03T17:41:50.626116Z",
     "iopub.status.idle": "2024-06-03T17:41:51.209143Z",
     "shell.execute_reply": "2024-06-03T17:41:51.208522Z"
    }
   },
   "outputs": [],
   "source": [
    "# Carregar variáveis do arquivo pickle\n",
    "with open('treinados.pkl', 'rb') as f:\n",
    "    data = pickle.load(f)\n",
    "\n",
    "rf = data['rf']"
   ]
  },
  {
   "cell_type": "code",
   "execution_count": 4,
   "id": "65263e25-d802-4344-86cc-95494418e5b1",
   "metadata": {
    "execution": {
     "iopub.execute_input": "2024-06-03T17:41:51.224487Z",
     "iopub.status.busy": "2024-06-03T17:41:51.224208Z",
     "iopub.status.idle": "2024-06-03T17:41:51.581404Z",
     "shell.execute_reply": "2024-06-03T17:41:51.580781Z"
    }
   },
   "outputs": [],
   "source": [
    "# Carregar variáveis do arquivo pickle\n",
    "with open('model.pkl', 'rb') as f:\n",
    "    data = pickle.load(f)\n",
    "\n",
    "model_db = data['model_db']"
   ]
  },
  {
   "cell_type": "code",
   "execution_count": 5,
   "id": "843934d1-8a45-44c2-b4d8-d86042ab7ec8",
   "metadata": {
    "execution": {
     "iopub.execute_input": "2024-06-03T17:41:51.604240Z",
     "iopub.status.busy": "2024-06-03T17:41:51.603815Z",
     "iopub.status.idle": "2024-06-03T17:41:51.612157Z",
     "shell.execute_reply": "2024-06-03T17:41:51.609666Z"
    }
   },
   "outputs": [],
   "source": [
    "# Carregar variáveis do arquivo pickle\n",
    "with open('stats.pkl', 'rb') as f:\n",
    "    data = pickle.load(f)\n",
    "\n",
    "team_stats_raw = data['team_stats_raw']"
   ]
  },
  {
   "cell_type": "code",
   "execution_count": 6,
   "id": "24d9012c-66c3-4750-838f-91fe1e78bac3",
   "metadata": {
    "execution": {
     "iopub.execute_input": "2024-06-03T17:41:51.624125Z",
     "iopub.status.busy": "2024-06-03T17:41:51.623885Z",
     "iopub.status.idle": "2024-06-03T17:41:51.632900Z",
     "shell.execute_reply": "2024-06-03T17:41:51.632447Z"
    }
   },
   "outputs": [],
   "source": [
    "table = {'A': [['Argentina', 0, []],\n",
    "  ['Peru', 0, []],\n",
    "  ['Chile', 0, []],\n",
    "  ['Canada', 0, []]],\n",
    " 'B': [['Mexico', 0, []],\n",
    "  ['Ecuador', 0, []],\n",
    "  ['Venezuela', 0, []],\n",
    "  ['Jamaica', 0, []]],\n",
    " 'C': [['United States', 0, []],\n",
    "  ['Uruguay', 0, []],\n",
    "  ['Panama', 0, []],\n",
    "  ['Bolivia', 0, []]],\n",
    " 'D': [['Brazil', 0, []],\n",
    "  ['Colombia', 0, []],\n",
    "  ['Paraguay', 0, []],\n",
    "  ['Costa Rica', 0, []]]}\n",
    "\n",
    "matches = [('A', 'Argentina', 'Canada'),\n",
    " ('A', 'Peru', 'Chile'),\n",
    " ('A', 'Peru', 'Canada'),\n",
    " ('A', 'Chile', 'Argentina'),\n",
    " ('A', 'Argentina', 'Peru'),\n",
    " ('A', 'Canada', 'Chile'),\n",
    " \n",
    " ('B', 'Ecuador', 'Venezuela'),\n",
    " ('B', 'Mexico', 'Jamaica'),\n",
    " ('B', 'Ecuador', 'Jamaica'),\n",
    " ('B', 'Venezuela', 'Mexico'),\n",
    " ('B', 'Mexico', 'Ecuador'),\n",
    " ('B', 'Jamaica', 'Venezuela'),\n",
    " \n",
    " ('C', 'United States', 'Bolivia'),\n",
    " ('C', 'Uruguay', 'Panama'),\n",
    " ('C', 'Panama', 'United States'),\n",
    " ('C', 'Uruguay', 'Bolivia'),\n",
    " ('C', 'United States', 'Uruguay'),\n",
    " ('C', 'Bolivia', 'Panama'),\n",
    " \n",
    " ('D', 'Colombia', 'Paraguay'),\n",
    " ('D', 'Brazil', 'Costa Rica'),\n",
    " ('D', 'Colombia', 'Costa Rica'),\n",
    " ('D', 'Paraguay', 'Brazil'),\n",
    " ('D', 'Brazil', 'Colombia'),\n",
    " ('D', 'Costa Rica', 'Paraguay')]"
   ]
  },
  {
   "cell_type": "code",
   "execution_count": 7,
   "id": "85a66b8c-9b8b-4571-a383-8f2b9136668a",
   "metadata": {
    "execution": {
     "iopub.execute_input": "2024-06-03T17:41:51.649186Z",
     "iopub.status.busy": "2024-06-03T17:41:51.648666Z",
     "iopub.status.idle": "2024-06-03T17:41:51.654697Z",
     "shell.execute_reply": "2024-06-03T17:41:51.654152Z"
    }
   },
   "outputs": [],
   "source": [
    "def find_stats(team_1):\n",
    "    past_games = team_stats_raw[(team_stats_raw[\"team\"] == team_1)].sort_values(\"date\")\n",
    "    last5 = team_stats_raw[(team_stats_raw[\"team\"] == team_1)].sort_values(\"date\").tail(5)\n",
    "\n",
    "    team_1_rank = past_games[\"rank\"].values[-1]\n",
    "    team_1_goals = past_games.score.mean()\n",
    "    team_1_goals_l5 = last5.score.mean()\n",
    "    team_1_goals_suf = past_games.suf_score.mean()\n",
    "    team_1_goals_suf_l5 = last5.suf_score.mean()\n",
    "    team_1_rank_suf = past_games.rank_suf.mean()\n",
    "    team_1_rank_suf_l5 = last5.rank_suf.mean()\n",
    "    team_1_gp_rank = past_games.points_by_rank.mean()\n",
    "    team_1_gp_rank_l5 = last5.points_by_rank.mean()\n",
    "\n",
    "    return [team_1_rank, team_1_goals, team_1_goals_l5, team_1_goals_suf, team_1_goals_suf_l5, team_1_rank_suf, team_1_rank_suf_l5, team_1_gp_rank, team_1_gp_rank_l5]"
   ]
  },
  {
   "cell_type": "code",
   "execution_count": 8,
   "id": "c2964821-b8d1-49f6-9ed2-b8f180fd5ae4",
   "metadata": {
    "execution": {
     "iopub.execute_input": "2024-06-03T17:41:51.670367Z",
     "iopub.status.busy": "2024-06-03T17:41:51.670093Z",
     "iopub.status.idle": "2024-06-03T17:41:51.676483Z",
     "shell.execute_reply": "2024-06-03T17:41:51.675737Z"
    }
   },
   "outputs": [],
   "source": [
    "def find_features(team_1, team_2):\n",
    "    rank_dif = team_1[0] - team_2[0]\n",
    "    goals_dif = team_1[1] - team_2[1]\n",
    "    goals_dif_l5 = team_1[2] - team_2[2]\n",
    "    goals_suf_dif = team_1[3] - team_2[3]\n",
    "    goals_suf_dif_l5 = team_1[4] - team_2[4]\n",
    "    goals_per_ranking_dif = (team_1[1]/team_1[5]) - (team_2[1]/team_2[5])\n",
    "    dif_rank_agst = team_1[5] - team_2[5]\n",
    "    dif_rank_agst_l5 = team_1[6] - team_2[6]\n",
    "    dif_gp_rank = team_1[7] - team_2[7]\n",
    "    dif_gp_rank_l5 = team_1[8] - team_2[8]\n",
    "    \n",
    "    return [rank_dif, goals_dif, goals_dif_l5, goals_suf_dif, goals_suf_dif_l5, goals_per_ranking_dif, dif_rank_agst, dif_rank_agst_l5, dif_gp_rank, dif_gp_rank_l5, 1, 0]"
   ]
  },
  {
   "cell_type": "code",
   "execution_count": 9,
   "id": "603d54fc-2853-4c8d-9b6c-94ac3f927ffb",
   "metadata": {
    "execution": {
     "iopub.execute_input": "2024-06-03T17:41:51.699215Z",
     "iopub.status.busy": "2024-06-03T17:41:51.698939Z",
     "iopub.status.idle": "2024-06-03T17:41:52.757103Z",
     "shell.execute_reply": "2024-06-03T17:41:52.756477Z"
    }
   },
   "outputs": [
    {
     "name": "stdout",
     "output_type": "stream",
     "text": [
      "\n",
      "\n",
      "---------- Simulando o Grupo A ----------\n",
      "Grupo A - Argentina vs. Canada: Vencedor Argentina com 0.81 de probabilidade\n",
      "Grupo A - Peru vs. Chile: Vencedor Peru com 0.57 de probabilidade\n",
      "Grupo A - Peru vs. Canada: Empate\n",
      "Grupo A - Chile vs. Argentina: Vencedor Argentina com 0.82 de probabilidade\n"
     ]
    },
    {
     "name": "stdout",
     "output_type": "stream",
     "text": [
      "Grupo A - Argentina vs. Peru: Vencedor Argentina com 0.75 de probabilidade\n",
      "Grupo A - Canada vs. Chile: Empate\n",
      "\n",
      "\n",
      "Do grupo A avançam: \n",
      "Argentina -------- 9\n",
      "Peru -------- 4\n",
      "Canada -------- 2\n",
      "Chile -------- 1\n",
      "\n",
      "\n",
      "---------- Simulando o Grupo B ----------\n",
      "Grupo B - Ecuador vs. Venezuela: Vencedor Ecuador com 0.65 de probabilidade\n",
      "Grupo B - Mexico vs. Jamaica: Vencedor Mexico com 0.72 de probabilidade\n",
      "Grupo B - Ecuador vs. Jamaica: Vencedor Ecuador com 0.73 de probabilidade\n"
     ]
    },
    {
     "name": "stdout",
     "output_type": "stream",
     "text": [
      "Grupo B - Venezuela vs. Mexico: Vencedor Mexico com 0.64 de probabilidade\n",
      "Grupo B - Mexico vs. Ecuador: Empate\n",
      "Grupo B - Jamaica vs. Venezuela: Vencedor Venezuela com 0.57 de probabilidade\n",
      "\n",
      "\n",
      "Do grupo B avançam: \n",
      "Ecuador -------- 7\n",
      "Mexico -------- 7\n",
      "Venezuela -------- 3\n",
      "Jamaica -------- 0\n",
      "\n",
      "\n",
      "---------- Simulando o Grupo C ----------\n",
      "Grupo C - United States vs. Bolivia: Vencedor United States com 0.82 de probabilidade\n",
      "Grupo C - Uruguay vs. Panama: Vencedor Uruguay com 0.64 de probabilidade\n",
      "Grupo C - Panama vs. United States: Vencedor United States com 0.63 de probabilidade\n",
      "Grupo C - Uruguay vs. Bolivia: Vencedor Uruguay com 0.73 de probabilidade\n"
     ]
    },
    {
     "name": "stdout",
     "output_type": "stream",
     "text": [
      "Grupo C - United States vs. Uruguay: Empate\n",
      "Grupo C - Bolivia vs. Panama: Vencedor Panama com 0.71 de probabilidade\n",
      "\n",
      "\n",
      "Do grupo C avançam: \n",
      "United States -------- 7\n",
      "Uruguay -------- 7\n",
      "Panama -------- 3\n",
      "Bolivia -------- 0\n",
      "\n",
      "\n",
      "---------- Simulando o Grupo D ----------\n",
      "Grupo D - Colombia vs. Paraguay: Vencedor Colombia com 0.65 de probabilidade\n",
      "Grupo D - Brazil vs. Costa Rica: Vencedor Brazil com 0.79 de probabilidade\n",
      "Grupo D - Colombia vs. Costa Rica: Vencedor Colombia com 0.75 de probabilidade\n"
     ]
    },
    {
     "name": "stdout",
     "output_type": "stream",
     "text": [
      "Grupo D - Paraguay vs. Brazil: Vencedor Brazil com 0.75 de probabilidade\n",
      "Grupo D - Brazil vs. Colombia: Empate\n",
      "Grupo D - Costa Rica vs. Paraguay: Empate\n",
      "\n",
      "\n",
      "Do grupo D avançam: \n",
      "Brazil -------- 7\n",
      "Colombia -------- 7\n",
      "Paraguay -------- 1\n",
      "Costa Rica -------- 1\n"
     ]
    }
   ],
   "source": [
    "advanced_group = []\n",
    "last_group = \"\"\n",
    "\n",
    "for k in table.keys():\n",
    "    for t in table[k]:\n",
    "        t[1] = 0\n",
    "        t[2] = []\n",
    "        \n",
    "for teams in matches:\n",
    "    draw = False\n",
    "    team_1 = find_stats(teams[1])\n",
    "    team_2 = find_stats(teams[2])\n",
    "\n",
    "    features_g1 = find_features(team_1, team_2)\n",
    "    features_g2 = find_features(team_2, team_1)\n",
    "\n",
    "    probs_g1 = rf.predict_proba([features_g1])\n",
    "    probs_g2 = rf.predict_proba([features_g2])\n",
    "    \n",
    "    team_1_prob_g1 = probs_g1[0][0]\n",
    "    team_1_prob_g2 = probs_g2[0][1]\n",
    "    team_2_prob_g1 = probs_g1[0][1]\n",
    "    team_2_prob_g2 = probs_g2[0][0]\n",
    "\n",
    "    team_1_prob = (probs_g1[0][0] + probs_g2[0][1])/2\n",
    "    team_2_prob = (probs_g2[0][0] + probs_g1[0][1])/2\n",
    "    \n",
    "    if ((team_1_prob_g1 > team_2_prob_g1) & (team_2_prob_g2 > team_1_prob_g2)) | ((team_1_prob_g1 < team_2_prob_g1) & (team_2_prob_g2 < team_1_prob_g2)):\n",
    "        draw=True\n",
    "        for i in table[teams[0]]:\n",
    "            if i[0] == teams[1] or i[0] == teams[2]:\n",
    "                i[1] += 1\n",
    "                \n",
    "    elif team_1_prob > team_2_prob:\n",
    "        winner = teams[1]\n",
    "        winner_proba = team_1_prob\n",
    "        for i in table[teams[0]]:\n",
    "            if i[0] == teams[1]:\n",
    "                i[1] += 3\n",
    "                \n",
    "    elif team_2_prob > team_1_prob:  \n",
    "        winner = teams[2]\n",
    "        winner_proba = team_2_prob\n",
    "        for i in table[teams[0]]:\n",
    "            if i[0] == teams[2]:\n",
    "                i[1] += 3\n",
    "    \n",
    "    for i in table[teams[0]]: #adding criterio de desempate (probs por jogo)\n",
    "            if i[0] == teams[1]:\n",
    "                i[2].append(team_1_prob)\n",
    "            if i[0] == teams[2]:\n",
    "                i[2].append(team_2_prob)\n",
    "\n",
    "    if last_group != teams[0]:\n",
    "        if last_group != \"\":\n",
    "            print(\"\\n\")\n",
    "            print(\"Do grupo %s avançam: \"%(last_group))\n",
    "            \n",
    "            for i in table[last_group]: #adding crieterio de desempate\n",
    "                i[2] = np.mean(i[2])\n",
    "            \n",
    "            final_points = table[last_group]\n",
    "            final_table = sorted(final_points, key=itemgetter(1, 2), reverse = True)\n",
    "            advanced_group.append([final_table[0][0], final_table[1][0]])\n",
    "            for i in final_table:\n",
    "                print(\"%s -------- %d\"%(i[0], i[1]))\n",
    "        print(\"\\n\")\n",
    "        print(\"-\"*10+\" Simulando o Grupo %s \"%(teams[0])+\"-\"*10)\n",
    "        \n",
    "        \n",
    "    if draw == False:\n",
    "        print(\"Grupo %s - %s vs. %s: Vencedor %s com %.2f de probabilidade\"%(teams[0], teams[1], teams[2], winner, winner_proba))\n",
    "    else:\n",
    "        print(\"Grupo %s - %s vs. %s: Empate\"%(teams[0], teams[1], teams[2]))\n",
    "    last_group =  teams[0]\n",
    "\n",
    "print(\"\\n\")\n",
    "print(\"Do grupo %s avançam: \"%(last_group))\n",
    "\n",
    "for i in table[last_group]: #adding crieterio de desempate\n",
    "    i[2] = np.mean(i[2])\n",
    "            \n",
    "final_points = table[last_group]\n",
    "final_table = sorted(final_points, key=itemgetter(1, 2), reverse = True)\n",
    "advanced_group.append([final_table[0][0], final_table[1][0]])\n",
    "for i in final_table:\n",
    "    print(\"%s -------- %d\"%(i[0], i[1]))"
   ]
  },
  {
   "cell_type": "code",
   "execution_count": 10,
   "id": "bd87551b-77cf-4b57-986a-7f7c9a1b54cd",
   "metadata": {
    "execution": {
     "iopub.execute_input": "2024-06-03T17:41:52.770535Z",
     "iopub.status.busy": "2024-06-03T17:41:52.770139Z",
     "iopub.status.idle": "2024-06-03T17:41:52.773042Z",
     "shell.execute_reply": "2024-06-03T17:41:52.772532Z"
    }
   },
   "outputs": [],
   "source": [
    "advanced = advanced_group"
   ]
  },
  {
   "cell_type": "code",
   "execution_count": 11,
   "id": "a2064862-ac3c-4218-9b37-ab05e8c534aa",
   "metadata": {
    "execution": {
     "iopub.execute_input": "2024-06-03T17:41:52.786270Z",
     "iopub.status.busy": "2024-06-03T17:41:52.786074Z",
     "iopub.status.idle": "2024-06-03T17:41:53.006728Z",
     "shell.execute_reply": "2024-06-03T17:41:53.005974Z"
    }
   },
   "outputs": [
    {
     "name": "stdout",
     "output_type": "stream",
     "text": [
      "----------\n",
      "Simulação das Quartas de Final\n",
      "----------\n",
      "\n",
      "\n",
      "Argentina vs. Mexico: Argentina avança com a probabilidade de 0.62\n",
      "United States vs. Colombia: United States avança com a probabilidade de 0.53\n"
     ]
    },
    {
     "name": "stdout",
     "output_type": "stream",
     "text": [
      "Peru vs. Ecuador: Ecuador avança com a probabilidade de 0.57\n",
      "Uruguay vs. Brazil: Brazil avança com a probabilidade de 0.58\n",
      "----------\n",
      "Simulação da Semi-Final\n",
      "----------\n",
      "\n",
      "\n",
      "Argentina vs. United States: Argentina avança com a probabilidade de 0.54\n",
      "Ecuador vs. Brazil: Brazil avança com a probabilidade de 0.65\n",
      "----------\n",
      "Simulação da Final\n",
      "----------\n",
      "\n",
      "\n",
      "Argentina vs. Brazil: Argentina avança com a probabilidade de 0.51\n"
     ]
    }
   ],
   "source": [
    "playoffs = {\"s Quartas de Final\": [], \" Semi-Final\": [], \" Final\": []}\n",
    "\n",
    "for p in playoffs.keys():\n",
    "    playoffs[p] = []\n",
    "\n",
    "actual_round = \"\"\n",
    "next_rounds = []\n",
    "\n",
    "for p in playoffs.keys():\n",
    "    if p == \"s Quartas de Final\":\n",
    "        control = []\n",
    "        for a in range(0, len(advanced*2), 1):\n",
    "            if a < len(advanced):\n",
    "                if a % 2 == 0:\n",
    "                    control.append((advanced*2)[a][0])\n",
    "                else:\n",
    "                    control.append((advanced*2)[a][1])\n",
    "            else:\n",
    "                if a % 2 == 0:\n",
    "                    control.append((advanced*2)[a][1])\n",
    "                else:\n",
    "                    control.append((advanced*2)[a][0])\n",
    "\n",
    "        playoffs[p] = [[control[c], control[c+1]] for c in range(0, len(control)-1, 1) if c%2 == 0]\n",
    "        \n",
    "        for i in range(0, len(playoffs[p]), 1):\n",
    "            game = playoffs[p][i]\n",
    "            \n",
    "            home = game[0]\n",
    "            away = game[1]\n",
    "            team_1 = find_stats(home)\n",
    "            team_2 = find_stats(away)\n",
    "\n",
    "            features_g1 = find_features(team_1, team_2)\n",
    "            features_g2 = find_features(team_2, team_1)\n",
    "            \n",
    "            probs_g1 = rf.predict_proba([features_g1])\n",
    "            probs_g2 = rf.predict_proba([features_g2])\n",
    "            \n",
    "            team_1_prob = (probs_g1[0][0] + probs_g2[0][1])/2\n",
    "            team_2_prob = (probs_g2[0][0] + probs_g1[0][1])/2\n",
    "            \n",
    "            if actual_round != p:\n",
    "                print(\"-\"*10)\n",
    "                print(\"Simulação da%s\"%(p))\n",
    "                print(\"-\"*10)\n",
    "                print(\"\\n\")\n",
    "            \n",
    "            if team_1_prob < team_2_prob:\n",
    "                print(\"%s vs. %s: %s avança com a probabilidade de %.2f\"%(home, away, away, team_2_prob))\n",
    "                next_rounds.append(away)\n",
    "            else:\n",
    "                print(\"%s vs. %s: %s avança com a probabilidade de %.2f\"%(home, away, home, team_1_prob))\n",
    "                next_rounds.append(home)\n",
    "            \n",
    "            game.append([team_1_prob, team_2_prob])\n",
    "            playoffs[p][i] = game\n",
    "            actual_round = p\n",
    "        \n",
    "    else:\n",
    "        playoffs[p] = [[next_rounds[c], next_rounds[c+1]] for c in range(0, len(next_rounds)-1, 1) if c%2 == 0]\n",
    "        next_rounds = []\n",
    "        for i in range(0, len(playoffs[p])):\n",
    "            game = playoffs[p][i]\n",
    "            home = game[0]\n",
    "            away = game[1]\n",
    "            team_1 = find_stats(home)\n",
    "            team_2 = find_stats(away)\n",
    "            \n",
    "            features_g1 = find_features(team_1, team_2)\n",
    "            features_g2 = find_features(team_2, team_1)\n",
    "            \n",
    "            probs_g1 = rf.predict_proba([features_g1])\n",
    "            probs_g2 = rf.predict_proba([features_g2])\n",
    "            \n",
    "            team_1_prob = (probs_g1[0][0] + probs_g2[0][1])/2\n",
    "            team_2_prob = (probs_g2[0][0] + probs_g1[0][1])/2\n",
    "            \n",
    "            if actual_round != p:\n",
    "                print(\"-\"*10)\n",
    "                print(\"Simulação da%s\"%(p))\n",
    "                print(\"-\"*10)\n",
    "                print(\"\\n\")\n",
    "            \n",
    "            if team_1_prob < team_2_prob:\n",
    "                print(\"%s vs. %s: %s avança com a probabilidade de %.2f\"%(home, away, away, team_2_prob))\n",
    "                next_rounds.append(away)\n",
    "            else:\n",
    "                print(\"%s vs. %s: %s avança com a probabilidade de %.2f\"%(home, away, home, team_1_prob))\n",
    "                next_rounds.append(home)\n",
    "            game.append([team_1_prob, team_2_prob])\n",
    "            playoffs[p][i] = game\n",
    "            actual_round = p\n",
    "            "
   ]
  }
 ],
 "metadata": {
  "kernelspec": {
   "display_name": "Python 3",
   "language": "python",
   "name": "orchest-kernel-c79509f7-e73c-4cf7-b67e-65668a2f6517"
  },
  "language_info": {
   "codemirror_mode": {
    "name": "ipython",
    "version": 3
   },
   "file_extension": ".py",
   "mimetype": "text/x-python",
   "name": "python",
   "nbconvert_exporter": "python",
   "pygments_lexer": "ipython3",
   "version": "3.8.19"
  }
 },
 "nbformat": 4,
 "nbformat_minor": 5
}
