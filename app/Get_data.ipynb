{
 "cells": [
  {
   "cell_type": "code",
   "execution_count": 1,
   "id": "47d25b31-fc88-4d52-92d3-14a514bed4ed",
   "metadata": {
    "execution": {
     "iopub.execute_input": "2024-06-03T17:39:31.268335Z",
     "iopub.status.busy": "2024-06-03T17:39:31.267786Z",
     "iopub.status.idle": "2024-06-03T17:39:31.813129Z",
     "shell.execute_reply": "2024-06-03T17:39:31.812294Z"
    }
   },
   "outputs": [],
   "source": [
    "import pandas as pd\n",
    "import pickle"
   ]
  },
  {
   "cell_type": "code",
   "execution_count": 2,
   "id": "5305d993-3b24-48a3-9878-57496d8ea795",
   "metadata": {
    "execution": {
     "iopub.execute_input": "2024-06-03T17:39:31.894087Z",
     "iopub.status.busy": "2024-06-03T17:39:31.892287Z",
     "iopub.status.idle": "2024-06-03T17:39:31.977719Z",
     "shell.execute_reply": "2024-06-03T17:39:31.976856Z"
    }
   },
   "outputs": [],
   "source": [
    "df = pd.read_csv('results.csv')"
   ]
  },
  {
   "cell_type": "code",
   "execution_count": 3,
   "id": "9fd5e8b5-1bee-4c2d-8f45-3dd853c2382c",
   "metadata": {
    "execution": {
     "iopub.execute_input": "2024-06-03T17:39:31.988484Z",
     "iopub.status.busy": "2024-06-03T17:39:31.986964Z",
     "iopub.status.idle": "2024-06-03T17:39:32.057130Z",
     "shell.execute_reply": "2024-06-03T17:39:32.056218Z"
    }
   },
   "outputs": [],
   "source": [
    "rank = pd.read_csv('fifa_ranking-2024-04-04.csv')"
   ]
  },
  {
   "cell_type": "code",
   "execution_count": 4,
   "id": "31d48f5e-f0d6-41bf-8f38-4dea1ab79597",
   "metadata": {
    "execution": {
     "iopub.execute_input": "2024-06-03T17:39:32.074021Z",
     "iopub.status.busy": "2024-06-03T17:39:32.072689Z",
     "iopub.status.idle": "2024-06-03T17:39:32.120143Z",
     "shell.execute_reply": "2024-06-03T17:39:32.118511Z"
    }
   },
   "outputs": [],
   "source": [
    "with open('datas.pkl', 'wb') as f:\n",
    "   pickle.dump({'df': df, 'rank': rank}, f)"
   ]
  },
  {
   "cell_type": "code",
   "execution_count": null,
   "id": "c6b88eb4-91d3-446f-a07a-b285a129dd6c",
   "metadata": {},
   "outputs": [],
   "source": []
  }
 ],
 "metadata": {
  "kernelspec": {
   "display_name": "Python 3",
   "language": "python",
   "name": "orchest-kernel-c79509f7-e73c-4cf7-b67e-65668a2f6517"
  },
  "language_info": {
   "codemirror_mode": {
    "name": "ipython",
    "version": 3
   },
   "file_extension": ".py",
   "mimetype": "text/x-python",
   "name": "python",
   "nbconvert_exporter": "python",
   "pygments_lexer": "ipython3",
   "version": "3.8.19"
  }
 },
 "nbformat": 4,
 "nbformat_minor": 5
}
